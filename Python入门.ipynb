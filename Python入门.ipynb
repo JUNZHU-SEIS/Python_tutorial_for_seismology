{
 "cells": [
  {
   "attachments": {},
   "cell_type": "markdown",
   "metadata": {},
   "source": [
    "# 为什么学Python?\n",
    "Python 是一种广泛使用的通用编程语言，其具有**语法简单、 功能强大、方便维护、免费开源**等优点，是目前地震学科研最常用的编程语言之一。越来越多的地震学软件使用Python语言，如：\n",
    "* Obspy (天然地震学领域用来下数据，处理波形的库)\n",
    "* SeisGlitch (火震去除毛刺)\n",
    "* SeisBench (地震学领域训练机器学习模型及获取公开数据集的多功能平台)\n",
    "* PhaseNet (用于地震震相拾取的机器学习模型)\n",
    "* EQTransformer (同PhaseNet)\n",
    "* Seispy (接收函数)\n",
    "* PyGMT (Python版的GMT，地理绘图工具)\n",
    "* PALM (一套全流程地震定位工具)"
   ]
  },
  {
   "attachments": {},
   "cell_type": "markdown",
   "metadata": {},
   "source": [
    "# Python变量和简单数据类型\n",
    "* 字符串\n",
    "* 整数/浮点数\n",
    "* 列表\n",
    "* 元组\n",
    "* 字典"
   ]
  },
  {
   "cell_type": "code",
   "execution_count": 1,
   "metadata": {},
   "outputs": [
    {
     "name": "stdout",
     "output_type": "stream",
     "text": [
      "Hello, world\n",
      "Hello, world\n",
      "enter\ttab\n",
      "25 26 625 8 1 5.0\n",
      "列表： [1, 2, 'a', 'b', 0.1] 列表长度： 5\n",
      "访问列表元素/切片： 被修改的元素 0.1 ['被修改的元素', 2, 'a', 'b', 0.1]\n",
      "列表生成式： [0, 1, 4, 9, 16, 25, 36, 49, 64, 81]\n",
      "元组： (1, 2, 'a', 'b', 0.1)\n",
      "{'学生A': {'姓名': 'A', '学号': 'PB20XXXXX', '学期成绩': [100, 100, 100, 100]}}\n",
      "A\n",
      "dict_keys(['学生A']) dict_values([{'姓名': 'A', '学号': 'PB20XXXXX', '学期成绩': [100, 100, 100, 100]}])\n"
     ]
    }
   ],
   "source": [
    "import math\n",
    "# 注意遵守变量命名规范（数字不打头，不空格，不用关键字，简短且具描述性，慎用字母IO）\n",
    "# 字符串\n",
    "message = \"Hello, world\"\n",
    "print(message)\n",
    "print(message+'\\nenter\\ttab')\n",
    "# 整数/浮点数\n",
    "i = 25\n",
    "print(i,i+1,i**2,i//3,i%3,math.sqrt(i))\n",
    "# 列表（存储可变数据）\n",
    "list = [1,2,'a','b',.1]\n",
    "print('列表：',list,'列表长度：',len(list))\n",
    "list[0] = '被修改的元素'\n",
    "list.append('添加的元素')\n",
    "print('访问列表元素/切片：',list[0],list[-2],list[:-1])\n",
    "print('列表生成式：',[x**2 for x in range(10)])\n",
    "# 元组（存储不可变数据）\n",
    "tuple = (1,2,'a','b',.1) #与列表的区别是用括号声明\n",
    "#tuple[1] = 3\n",
    "print('元组：',tuple)\n",
    "# 字典（键-值对）\n",
    "dic = {\"学生A\":{\"姓名\":\"A\",\"学号\":'PB20XXXXX','学期成绩':[100,100,100,100]}}\n",
    "print(dic)\n",
    "print(dic['学生A']['姓名'])\n",
    "print(dic.keys(),dic.values())"
   ]
  },
  {
   "attachments": {},
   "cell_type": "markdown",
   "metadata": {},
   "source": [
    "# Python函数和类\n",
    "* 一个度转千米的函数\n",
    "* 创建一个描述汽车的类，要求该类可以更新汽车里程\n",
    "* 创建一个描述地震事件的类"
   ]
  },
  {
   "cell_type": "code",
   "execution_count": 4,
   "metadata": {},
   "outputs": [
    {
     "name": "stdout",
     "output_type": "stream",
     "text": [
      "1度约为111.19 km\n",
      "2016 audi a4\n",
      "当前里程是0 m\n",
      "当前里程是100 m\n",
      "13.0\n"
     ]
    }
   ],
   "source": [
    "def deg2km(dist,radius=6371):\n",
    "    # 注意缩进\n",
    "    return dist*math.pi/180*radius\n",
    "print('1度约为%.2f km'%deg2km(1))\n",
    "\n",
    "class Car(): #类命名一般大写\n",
    "    def __init__(self,make,model,year):\n",
    "        self.make = make\n",
    "        self.model = model\n",
    "        self.year = year\n",
    "        self.odo_meter = 0\n",
    "        self.unit = 'm'\n",
    "    def get_descriptive_name(self):\n",
    "        long_name = str(self.year)+' '+self.make+' '+self.model\n",
    "        return long_name\n",
    "    def read_meter(self):\n",
    "        return '当前里程是%d %s'%(self.odo_meter,self.unit)\n",
    "    def update_odometer(self,increment):\n",
    "        self.odo_meter += increment\n",
    "\n",
    "car = Car('audi','a4',2016)\n",
    "print(car.get_descriptive_name())\n",
    "print(car.read_meter())\n",
    "car.update_odometer(100)\n",
    "print(car.read_meter())\n",
    "\n",
    "# 创建一个描述地震事件的类，要求该类可以计算事件到任何台站的距离\n",
    "class Event():\n",
    "    def __init__(self,time,x,y,depth,mag):\n",
    "        self.time = time\n",
    "        self.depth = depth\n",
    "        self.mag = mag\n",
    "        self.x = x\n",
    "        self.y = y\n",
    "    def dist2station(self,x,y,elevation=0):\n",
    "        dh = math.sqrt((self.x-x)**2+(self.y-y)**2)\n",
    "        dz = abs(self.depth+elevation/1e3)\n",
    "        return math.sqrt(dh**2+dz**2)\n",
    "\n",
    "# 创建一个事件\n",
    "event = Event('20230330000000',0,0,12,5)\n",
    "# 求该事件到一个台站的距离\n",
    "print(event.dist2station(3,4))"
   ]
  },
  {
   "attachments": {},
   "cell_type": "markdown",
   "metadata": {},
   "source": [
    "# Python I/O\n",
    "以美国USGS网站发布的地震目录文件为例，读取并存储其前5列信息，并将分隔符改成一个空格"
   ]
  },
  {
   "cell_type": "code",
   "execution_count": 3,
   "metadata": {},
   "outputs": [],
   "source": [
    "with open('data/usgs_catalog_20230300_0330.csv','r') as f:\n",
    "    lines = f.readlines()\n",
    "out = open('trimed_catalog.txt','w')\n",
    "for line in lines:\n",
    "    #抽取前5列信息\n",
    "    saved = ' '.join(line.split(',')[:6])+'\\n'\n",
    "    out.write(saved)\n",
    "out.close()"
   ]
  },
  {
   "attachments": {},
   "cell_type": "markdown",
   "metadata": {},
   "source": [
    "# 推荐阅读\n",
    "蟒蛇书：《Python编程 从入门到实践》前11章\n",
    "\n",
    "![](data/python.jpg)"
   ]
  }
 ],
 "metadata": {
  "kernelspec": {
   "display_name": "onnx",
   "language": "python",
   "name": "python3"
  },
  "language_info": {
   "codemirror_mode": {
    "name": "ipython",
    "version": 3
   },
   "file_extension": ".py",
   "mimetype": "text/x-python",
   "name": "python",
   "nbconvert_exporter": "python",
   "pygments_lexer": "ipython3",
   "version": "3.10.10"
  },
  "orig_nbformat": 4
 },
 "nbformat": 4,
 "nbformat_minor": 2
}
