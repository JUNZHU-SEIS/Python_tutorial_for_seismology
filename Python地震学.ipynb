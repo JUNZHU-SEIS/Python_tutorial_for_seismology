{
 "cells": [
  {
   "cell_type": "markdown",
   "metadata": {},
   "source": [
    "# 下载地震波形"
   ]
  },
  {
   "cell_type": "code",
   "execution_count": null,
   "metadata": {},
   "outputs": [],
   "source": [
    "from obspy import UTCDateTime\n",
    "from obspy.clients.fdsn.client import Client\n",
    "client = Client('IRIS')\n",
    "t = UTCDateTime(\"2012-12-14T10:36:01.6Z\")\n",
    "st = client.get_waveforms('TA','E42A','*','BH?',t+300,t+400,attach_response=True)\n",
    "#st.remove_response(output='VEL')\n",
    "for tr in st:\n",
    "    print(tr)\n",
    "    meta = tr.stats\n",
    "    # 浏览道头信息 (台网名，台站名，通道名，开始时间，采样率)\n",
    "    print(meta.network, meta.station, meta.channel, meta.starttime, meta.sampling_rate)\n",
    "# 存储波形数据\n",
    "st.write('TA.E42A.mseed')"
   ]
  },
  {
   "attachments": {},
   "cell_type": "markdown",
   "metadata": {},
   "source": [
    "# 可视化"
   ]
  },
  {
   "cell_type": "code",
   "execution_count": null,
   "metadata": {},
   "outputs": [],
   "source": [
    "def process(st):\n",
    "    st.detrend('demean');st.detrend('linear')\n",
    "    st.taper(.05, max_length=5)\n",
    "    #st.filter('bandpass', freqmin=1, freqmax=15, zerophase=True, corners=2)\n",
    "    #st.filter('lowpass', freq=1/10, zerophase=True, corners=2)\n",
    "    st.filter('highpass', freq=1, zerophase=True, corners=2)\n",
    "    #st.normalize()\n",
    "    return st\n",
    "\n",
    "def visualize(st):\n",
    "    import matplotlib.pyplot as plt\n",
    "    import numpy as np\n",
    "    data = np.array([tr.data for tr in st])\n",
    "    fig,ax = plt.subplots(3,1, sharex=True)\n",
    "    for i,a in enumerate(ax):\n",
    "        a.plot(st[i].data, lw=.8, label=st[i].stats.channel)\n",
    "        a.legend(loc='upper left')\n",
    "    a.set_xlabel('Time (s)')\n",
    "    plt.tight_layout()\n",
    "    plt.savefig('visualization.pdf')\n",
    "    #plt.show()\n",
    "    plt.close()"
   ]
  },
  {
   "cell_type": "code",
   "execution_count": null,
   "metadata": {},
   "outputs": [],
   "source": [
    "from obspy import read\n",
    "st = read('data/TA.E42A.mseed')\n",
    "st = process(st)\n",
    "#st.plot()\n",
    "visualize(st)"
   ]
  },
  {
   "attachments": {},
   "cell_type": "markdown",
   "metadata": {},
   "source": [
    "# 推荐阅读\n",
    "Obspy文档：https://docs.obspy.org/index.html"
   ]
  }
 ],
 "metadata": {
  "kernelspec": {
   "display_name": "python_tutorial",
   "language": "python",
   "name": "python3"
  },
  "language_info": {
   "codemirror_mode": {
    "name": "ipython",
    "version": 3
   },
   "file_extension": ".py",
   "mimetype": "text/x-python",
   "name": "python",
   "nbconvert_exporter": "python",
   "pygments_lexer": "ipython3",
   "version": "3.10.10"
  },
  "orig_nbformat": 4
 },
 "nbformat": 4,
 "nbformat_minor": 2
}
